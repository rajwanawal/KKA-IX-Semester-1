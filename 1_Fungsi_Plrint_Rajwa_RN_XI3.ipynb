{
  "nbformat": 4,
  "nbformat_minor": 0,
  "metadata": {
    "colab": {
      "provenance": [],
      "authorship_tag": "ABX9TyNwrJ57t6v2EiVSjE02RrVE",
      "include_colab_link": true
    },
    "kernelspec": {
      "name": "python3",
      "display_name": "Python 3"
    },
    "language_info": {
      "name": "python"
    }
  },
  "cells": [
    {
      "cell_type": "markdown",
      "metadata": {
        "id": "view-in-github",
        "colab_type": "text"
      },
      "source": [
        "<a href=\"https://colab.research.google.com/github/rajwanawal/KKA-IX-Semester-1/blob/main/1_Fungsi_Plrint_Rajwa_RN_XI3.ipynb\" target=\"_parent\"><img src=\"https://colab.research.google.com/assets/colab-badge.svg\" alt=\"Open In Colab\"/></a>"
      ]
    },
    {
      "cell_type": "markdown",
      "source": [
        "Nama: Rajwa Rofiatun Nawal\n",
        "\n",
        "Kelas:XI-3\n",
        "\n",
        "No.Absen:23"
      ],
      "metadata": {
        "id": "Nf4pJ8-wViTS"
      }
    },
    {
      "cell_type": "markdown",
      "source": [
        "#Menampilkan String (Teks bebas)"
      ],
      "metadata": {
        "id": "bbDuCWiyWW77"
      }
    },
    {
      "cell_type": "code",
      "source": [],
      "metadata": {
        "id": "pDIsCee9iUuC"
      },
      "execution_count": null,
      "outputs": []
    },
    {
      "cell_type": "code",
      "execution_count": null,
      "metadata": {
        "id": "tBCGzZGCUXwL",
        "colab": {
          "base_uri": "https://localhost:8080/"
        },
        "outputId": "f80f9258-2743-42ce-983f-13287d03d4e9"
      },
      "outputs": [
        {
          "output_type": "stream",
          "name": "stdout",
          "text": [
            "Rajwa Rofiatun Nawal\n"
          ]
        }
      ],
      "source": [
        "print(\"Rajwa Rofiatun Nawal\")"
      ]
    },
    {
      "cell_type": "markdown",
      "source": [
        "#Menampilkan Nilai Variabel"
      ],
      "metadata": {
        "id": "WR5FbaMDWvEZ"
      }
    },
    {
      "cell_type": "code",
      "source": [
        "Nama = \"Rajwa Rofiatun Nawal\"\n",
        "Usia = 16\n",
        "Tinggi_Badan = 150\n",
        "\n",
        "print(Nama)\n",
        "print(Usia)\n",
        "printt(Tinggi_Badan)"
      ],
      "metadata": {
        "colab": {
          "base_uri": "https://localhost:8080/"
        },
        "id": "uR7MIgybW1X2",
        "outputId": "8d9de437-98d3-47df-bf3c-48900dd13f92"
      },
      "execution_count": null,
      "outputs": [
        {
          "output_type": "stream",
          "name": "stdout",
          "text": [
            "Rajwa Rofiatun Nawal\n",
            "16\n",
            "150\n"
          ]
        }
      ]
    },
    {
      "cell_type": "markdown",
      "source": [
        "#Menampilkan String dan Nilai Variabel"
      ],
      "metadata": {
        "id": "bOyrqaXxSpYr"
      }
    },
    {
      "cell_type": "code",
      "source": [
        "print(\"Halo nama saya\",Nama,\". Tinggi badan saya adalah \", Tinggi_Badan, \"cm\")"
      ],
      "metadata": {
        "colab": {
          "base_uri": "https://localhost:8080/"
        },
        "id": "3YieAcDpS2Gp",
        "outputId": "1abef8e4-12bf-414b-8b66-ebb7a78f5b62"
      },
      "execution_count": null,
      "outputs": [
        {
          "output_type": "stream",
          "name": "stdout",
          "text": [
            "Halo nama saya Rajwa Rofiatun Nawal . Tinggi badan saya adalah  150 cm\n"
          ]
        }
      ]
    },
    {
      "cell_type": "code",
      "source": [
        "print(\"Usia saya adalah\",Usia,\"Tahun.\")"
      ],
      "metadata": {
        "colab": {
          "base_uri": "https://localhost:8080/"
        },
        "id": "9Sm_VwFEUWJK",
        "outputId": "6592967d-211b-414c-e3c5-db53464c239a"
      },
      "execution_count": null,
      "outputs": [
        {
          "output_type": "stream",
          "name": "stdout",
          "text": [
            "Usia saya adalah 16 Tahun.\n"
          ]
        }
      ]
    },
    {
      "cell_type": "markdown",
      "source": [
        "#Latihan"
      ],
      "metadata": {
        "id": "XgHPgmDLV8qP"
      }
    },
    {
      "cell_type": "code",
      "source": [
        "Berat_Badan = 49\n",
        "print (Berat_Badan)"
      ],
      "metadata": {
        "id": "1_0-WrlSU0rO",
        "colab": {
          "base_uri": "https://localhost:8080/"
        },
        "outputId": "8c076959-633e-4bf5-dd97-c5fe6f51c051",
        "collapsed": true
      },
      "execution_count": null,
      "outputs": [
        {
          "output_type": "stream",
          "name": "stdout",
          "text": [
            "49\n"
          ]
        }
      ]
    },
    {
      "cell_type": "code",
      "source": [
        "print (\"Berat badan saya\",Berat_Badan,\"kg\")"
      ],
      "metadata": {
        "colab": {
          "base_uri": "https://localhost:8080/"
        },
        "id": "iK6lv6bQVnXU",
        "outputId": "0f7ce1d3-7b44-4183-80f4-e0757558e5bd"
      },
      "execution_count": null,
      "outputs": [
        {
          "output_type": "stream",
          "name": "stdout",
          "text": [
            "Berat badan saya 49 kg\n"
          ]
        }
      ]
    },
    {
      "cell_type": "code",
      "source": [
        "print (\"Halo nama saya \"+ Nama+ \". Tinggi badan saya adalah \"+ str(Tinggi_Badan)+ \"cm\")"
      ],
      "metadata": {
        "colab": {
          "base_uri": "https://localhost:8080/"
        },
        "id": "TMwg0GPdah80",
        "outputId": "66bc56e2-38ae-4a90-a018-db13657d7c94"
      },
      "execution_count": null,
      "outputs": [
        {
          "output_type": "stream",
          "name": "stdout",
          "text": [
            "Halo nama saya Rajwa Rofiatun Nawal. Tinggi badan saya adalah 150cm\n"
          ]
        }
      ]
    },
    {
      "cell_type": "code",
      "source": [
        "print (f\"Halo nama saya {Nama}. Tinggi badan saya adalah {Tinggi_Badan} cm.\")"
      ],
      "metadata": {
        "colab": {
          "base_uri": "https://localhost:8080/"
        },
        "id": "V1VjCkiybHR3",
        "outputId": "e0eab4b9-8484-4aa0-cba6-7cf23b61f61a"
      },
      "execution_count": null,
      "outputs": [
        {
          "output_type": "stream",
          "name": "stdout",
          "text": [
            "Halo nama saya Rajwa Rofiatun Nawal. Tinggi badan saya adalah 150 cm.\n"
          ]
        }
      ]
    },
    {
      "cell_type": "markdown",
      "source": [
        "#Escape Character"
      ],
      "metadata": {
        "id": "Ev0yfxTBV2Kt"
      }
    },
    {
      "cell_type": "code",
      "source": [
        "print(\"Nama: Rajwa Rofiatun Nawal\\nKelas:XI.3\\nNo. absen: 24\")"
      ],
      "metadata": {
        "colab": {
          "base_uri": "https://localhost:8080/"
        },
        "id": "WUwLh9UiWBDD",
        "outputId": "bb1d0794-02e9-4c10-9d3a-c26bfbac13a4"
      },
      "execution_count": null,
      "outputs": [
        {
          "output_type": "stream",
          "name": "stdout",
          "text": [
            "Nama: Rajwa Rofiatun Nawal\n",
            "Kelas:XI.3\n",
            "No. absen: 24\n"
          ]
        }
      ]
    },
    {
      "cell_type": "code",
      "source": [
        "print(\"\"\"Nama\\t\\t: Rajwa Rofiatun Nawal\n",
        "Kelas\\t\\t: XI.3\n",
        "No. absen\\t: 24\"\"\")"
      ],
      "metadata": {
        "colab": {
          "base_uri": "https://localhost:8080/"
        },
        "id": "82ci-KwNWtOb",
        "outputId": "5649e7ad-4f2f-45d9-956d-728a62031fcf"
      },
      "execution_count": null,
      "outputs": [
        {
          "output_type": "stream",
          "name": "stdout",
          "text": [
            "Nama\t\t: Rajwa Rofiatun Nawal\n",
            "Kelas\t\t: XI.3\n",
            "No. absen\t: 24\n"
          ]
        }
      ]
    },
    {
      "cell_type": "code",
      "source": [
        "print(\"Nama: Rajwa Rofiatun Nawal \")\n",
        "print(\"Kelas:XI.3\")\n",
        "print(\"No. absen:24\")"
      ],
      "metadata": {
        "colab": {
          "base_uri": "https://localhost:8080/"
        },
        "id": "ZuOgo-8aXbtG",
        "outputId": "bbb7a8f0-6f9a-4e98-e3fe-3cd9d98dab4b"
      },
      "execution_count": null,
      "outputs": [
        {
          "output_type": "stream",
          "name": "stdout",
          "text": [
            "Nama: Rajwa Rofiatun Nawal \n",
            "Kelas:XI.3\n",
            "No. absen:24\n"
          ]
        }
      ]
    },
    {
      "cell_type": "code",
      "source": [
        "print(\"Rajwa Rofiatun Nawal\")"
      ],
      "metadata": {
        "colab": {
          "base_uri": "https://localhost:8080/"
        },
        "id": "kZLgRMNnbiqH",
        "outputId": "e2f5a53d-c05b-434f-f5e7-a14c9ec1bea0"
      },
      "execution_count": null,
      "outputs": [
        {
          "output_type": "stream",
          "name": "stdout",
          "text": [
            "Rajwa Rofiatun Nawal\n"
          ]
        }
      ]
    },
    {
      "cell_type": "code",
      "source": [
        "print('Rajwa Rofiatun Nawal')"
      ],
      "metadata": {
        "colab": {
          "base_uri": "https://localhost:8080/"
        },
        "id": "yI0kyiGjbw86",
        "outputId": "4f6d7afe-a494-482f-d10e-30aa9eb07f6d"
      },
      "execution_count": null,
      "outputs": [
        {
          "output_type": "stream",
          "name": "stdout",
          "text": [
            "Rajwa Rofiatun Nawal\n"
          ]
        }
      ]
    },
    {
      "cell_type": "code",
      "source": [
        "print('habib ja\\'far')"
      ],
      "metadata": {
        "colab": {
          "base_uri": "https://localhost:8080/"
        },
        "id": "kYPbNAlAb4dq",
        "outputId": "e39c236a-46c9-4995-da82-8108cdae77b4"
      },
      "execution_count": null,
      "outputs": [
        {
          "output_type": "stream",
          "name": "stdout",
          "text": [
            "habib ja'far\n"
          ]
        }
      ]
    },
    {
      "cell_type": "code",
      "source": [
        "print(\"Bu Shinta berkata, \\\"Tolong fokus ke layar TV!\\\"\")"
      ],
      "metadata": {
        "colab": {
          "base_uri": "https://localhost:8080/"
        },
        "id": "B812zv5ucDMn",
        "outputId": "8aea98f8-4189-489b-b814-400d22453d8a"
      },
      "execution_count": null,
      "outputs": [
        {
          "output_type": "stream",
          "name": "stdout",
          "text": [
            "Bu Shinta berkata, \"Tolong fokus ke layar TV!\"\n"
          ]
        }
      ]
    },
    {
      "cell_type": "code",
      "source": [
        "print(\"Lokasi file penyimpanan tugas KKA ada di Local disk D:\\\\Man Demak\\\\KKA\\\\Tugas\")"
      ],
      "metadata": {
        "colab": {
          "base_uri": "https://localhost:8080/"
        },
        "id": "aWY1HBgdcW5o",
        "outputId": "7c46681d-612c-4f47-c2b7-fe4476881e93"
      },
      "execution_count": null,
      "outputs": [
        {
          "output_type": "stream",
          "name": "stdout",
          "text": [
            "Lokasi file penyimpanan tugas KKA ada di Local disk D:\\Man Demak\\KKA\\Tugas\n"
          ]
        }
      ]
    },
    {
      "cell_type": "markdown",
      "source": [
        "#Parameter Fungsi print"
      ],
      "metadata": {
        "id": "OrLkq-qlXUB6"
      }
    },
    {
      "cell_type": "markdown",
      "source": [
        "nama_siswa_1 = \"Yafi\"\n",
        "nama_siswa_2 = \"Wahyu\""
      ],
      "metadata": {
        "id": "xqsNQI-6X-o1"
      }
    },
    {
      "cell_type": "code",
      "source": [
        "nama_siswa_1 = \"Yafi\"\n",
        "nama_siswa_2 = \"Wahyu\""
      ],
      "metadata": {
        "id": "sc-MddV7YuSE"
      },
      "execution_count": null,
      "outputs": []
    },
    {
      "cell_type": "code",
      "source": [
        "print(nama_siswa_1, end=\"&\")\n",
        "print(nama_siswa_2)"
      ],
      "metadata": {
        "colab": {
          "base_uri": "https://localhost:8080/"
        },
        "id": "7ECVk4OZXxZ3",
        "outputId": "7c298928-38a6-4b9c-e205-4dcef2b936a9"
      },
      "execution_count": null,
      "outputs": [
        {
          "output_type": "stream",
          "name": "stdout",
          "text": [
            "Yafi&Wahyu\n"
          ]
        }
      ]
    },
    {
      "cell_type": "code",
      "source": [
        "print (nama_siswa_1,nama_siswa_2, sep=\"/\")"
      ],
      "metadata": {
        "colab": {
          "base_uri": "https://localhost:8080/"
        },
        "id": "bzkYYzjAYm7e",
        "outputId": "0fe9ccef-8962-4a9f-b680-d64fcdca2c74"
      },
      "execution_count": null,
      "outputs": [
        {
          "output_type": "stream",
          "name": "stdout",
          "text": [
            "Yafi/Wahyu\n"
          ]
        }
      ]
    },
    {
      "cell_type": "code",
      "source": [
        "nama_siswa_3 = \"Dzakka\"\n",
        "nama_siswa_4 = \"Haikal\"\n",
        "nama_siswa_5 = \"Hilma\""
      ],
      "metadata": {
        "id": "NQ9g2ASdZKm4"
      },
      "execution_count": null,
      "outputs": []
    },
    {
      "cell_type": "code",
      "source": [
        "print (nama_siswa_5, end=\"*\")\n",
        "print (nama_siswa_4, end=\"*\")\n",
        "print (nama_siswa_3, end=\"*\")\n",
        "print (nama_siswa_5)"
      ],
      "metadata": {
        "colab": {
          "base_uri": "https://localhost:8080/"
        },
        "id": "ABs0we0PZtoI",
        "outputId": "8abfe28a-df2b-4206-dd85-473fa5a7e9bb"
      },
      "execution_count": null,
      "outputs": [
        {
          "output_type": "stream",
          "name": "stdout",
          "text": [
            "Hilma*Haikal*Dzakka*Hilma\n"
          ]
        }
      ]
    },
    {
      "cell_type": "code",
      "source": [
        "print (nama_siswa_4,nama_siswa_3,nama_siswa_5,nama_siswa_3, sep=\"~\")"
      ],
      "metadata": {
        "colab": {
          "base_uri": "https://localhost:8080/"
        },
        "id": "FJdCNNNRa1vn",
        "outputId": "41f2ca3f-52e4-4bee-9020-eabd42110e2a"
      },
      "execution_count": null,
      "outputs": [
        {
          "output_type": "stream",
          "name": "stdout",
          "text": [
            "Haikal~Dzakka~Hilma~Dzakka\n"
          ]
        }
      ]
    }
  ]
}